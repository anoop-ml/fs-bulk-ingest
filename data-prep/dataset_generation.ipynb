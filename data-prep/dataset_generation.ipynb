{
 "cells": [
  {
   "cell_type": "markdown",
   "id": "f883c91d",
   "metadata": {},
   "source": [
    "### Sample Data Set Generation for 10 Million records\n",
    "\n",
    "## Please make sure you have a right instance based on your memory needs. For this example ml.c5.4xlarge is used."
   ]
  },
  {
   "cell_type": "code",
   "execution_count": 1,
   "id": "ae17bd69",
   "metadata": {},
   "outputs": [],
   "source": [
    "import pandas as pd\n",
    "df = pd.read_csv('../data/seed.csv')"
   ]
  },
  {
   "cell_type": "code",
   "execution_count": 2,
   "id": "11a49f2c",
   "metadata": {},
   "outputs": [
    {
     "name": "stdout",
     "output_type": "stream",
     "text": [
      "CPU times: user 3.08 s, sys: 2.77 s, total: 5.84 s\n",
      "Wall time: 5.84 s\n"
     ]
    }
   ],
   "source": [
    "%%time\n",
    "for i in range(7):\n",
    "    df = df.append([df]*9, ignore_index=True)"
   ]
  },
  {
   "cell_type": "code",
   "execution_count": 9,
   "id": "8c205ef9",
   "metadata": {},
   "outputs": [
    {
     "data": {
      "text/plain": [
       "(10000000, 86)"
      ]
     },
     "execution_count": 9,
     "metadata": {},
     "output_type": "execute_result"
    }
   ],
   "source": [
    "df.shape"
   ]
  },
  {
   "cell_type": "markdown",
   "id": "ed6ebe53",
   "metadata": {},
   "source": [
    "### Data Transformation"
   ]
  },
  {
   "cell_type": "code",
   "execution_count": 6,
   "id": "98c5e21a",
   "metadata": {},
   "outputs": [],
   "source": [
    "class Counter:\n",
    "    def __init__(self, seed):\n",
    "        self.cnt = seed\n",
    "    def increment(self, x):\n",
    "        self.cnt += 1\n",
    "        return str(self.cnt)"
   ]
  },
  {
   "cell_type": "code",
   "execution_count": 7,
   "id": "be7bce7f",
   "metadata": {},
   "outputs": [
    {
     "name": "stdout",
     "output_type": "stream",
     "text": [
      "CPU times: user 3.28 s, sys: 398 ms, total: 3.67 s\n",
      "Wall time: 3.67 s\n"
     ]
    }
   ],
   "source": [
    "%%time\n",
    "counter = Counter(0)\n",
    "df[\"id\"] = df[\"id\"].apply(counter.increment)"
   ]
  },
  {
   "cell_type": "code",
   "execution_count": 8,
   "id": "76e70104",
   "metadata": {},
   "outputs": [
    {
     "name": "stdout",
     "output_type": "stream",
     "text": [
      "CPU times: user 3min 40s, sys: 4.31 s, total: 3min 44s\n",
      "Wall time: 5min 19s\n"
     ]
    }
   ],
   "source": [
    "%%time\n",
    "# PLEASE USE YOUR S3 PATH\n",
    "s3_file_path = 's3://fs-ingest-2/data/10M/seed_10M.csv'\n",
    "df.to_csv(s3_file_path, index=False)"
   ]
  },
  {
   "cell_type": "markdown",
   "id": "54d6d23a",
   "metadata": {},
   "source": [
    "Chunk dataframe and persist in s3"
   ]
  },
  {
   "cell_type": "code",
   "execution_count": 10,
   "id": "773ba4d8",
   "metadata": {},
   "outputs": [
    {
     "name": "stdout",
     "output_type": "stream",
     "text": [
      "CPU times: user 3min 44s, sys: 4.37 s, total: 3min 48s\n",
      "Wall time: 5min 29s\n"
     ]
    }
   ],
   "source": [
    "%%time\n",
    "chunk_rows = 1000000  #num of rows in each chunk, you can change depending on your scenario\n",
    "s3_bucket = 's3://fs-ingest-2/data/chunks-1M/' # Please use your s3 path\n",
    "df_list = [df[i:i+chunk_rows] for i in range(0,df.shape[0],chunk_rows)]\n",
    "for idx, chunk_df in enumerate(df_list):\n",
    "    s3_file_path = s3_bucket+f'chunk{str(idx)}.csv'\n",
    "    chunk_df.to_csv(s3_file_path, index=False)"
   ]
  },
  {
   "cell_type": "code",
   "execution_count": null,
   "id": "b0c3e208",
   "metadata": {},
   "outputs": [],
   "source": []
  }
 ],
 "metadata": {
  "kernelspec": {
   "display_name": "conda_python3",
   "language": "python",
   "name": "conda_python3"
  },
  "language_info": {
   "codemirror_mode": {
    "name": "ipython",
    "version": 3
   },
   "file_extension": ".py",
   "mimetype": "text/x-python",
   "name": "python",
   "nbconvert_exporter": "python",
   "pygments_lexer": "ipython3",
   "version": "3.6.13"
  }
 },
 "nbformat": 4,
 "nbformat_minor": 5
}
