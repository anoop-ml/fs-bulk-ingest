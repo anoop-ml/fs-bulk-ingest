{
 "cells": [
  {
   "cell_type": "markdown",
   "id": "b7818eea",
   "metadata": {},
   "source": [
    "### Create a Feature Group"
   ]
  },
  {
   "cell_type": "code",
   "execution_count": 1,
   "id": "1b277cfd",
   "metadata": {},
   "outputs": [],
   "source": [
    "import pandas as pd\n",
    "import sagemaker\n",
    "from time import gmtime, strftime, sleep\n",
    "\n",
    "import boto3"
   ]
  },
  {
   "cell_type": "markdown",
   "id": "5493769f",
   "metadata": {},
   "source": [
    "Configure SageMaker feature store with custom config"
   ]
  },
  {
   "cell_type": "code",
   "execution_count": 2,
   "id": "c687ceb1",
   "metadata": {},
   "outputs": [],
   "source": [
    "from botocore.config import Config\n",
    "\n",
    "boto_session = boto3.Session()\n",
    "\n",
    "sm_boto_fs_runtime = boto3.client(service_name='sagemaker-featurestore-runtime', config=Config(\n",
    "                                     retries = {\n",
    "                                         'max_attempts': 10,\n",
    "                                         'mode': 'standard'\n",
    "                                     }))\n",
    "\n",
    "sm_boto_client = boto_session.client(\n",
    "    service_name='sagemaker'\n",
    ")\n",
    "\n",
    "sm_session = sagemaker.Session(\n",
    "    boto_session=boto_session,\n",
    "    sagemaker_client=sm_boto_client,\n",
    "    sagemaker_featurestore_runtime_client=sm_boto_fs_runtime)"
   ]
  },
  {
   "cell_type": "markdown",
   "id": "1ccf5e6b",
   "metadata": {},
   "source": [
    "Create Feature Group Instance"
   ]
  },
  {
   "cell_type": "code",
   "execution_count": 3,
   "id": "e6c36d55",
   "metadata": {},
   "outputs": [],
   "source": [
    "fg_create_time = strftime('%m-%d-%Y-%H-%M-%S', gmtime())\n",
    "fg_name = 'ingest-fg-'+ fg_create_time\n",
    "\n",
    "from sagemaker.feature_store.feature_group import FeatureGroup\n",
    "fg = FeatureGroup(name=fg_name, sagemaker_session=sm_session)"
   ]
  },
  {
   "cell_type": "markdown",
   "id": "0465452d",
   "metadata": {},
   "source": [
    "Provision Feature Group"
   ]
  },
  {
   "cell_type": "code",
   "execution_count": 4,
   "id": "24388cc4",
   "metadata": {},
   "outputs": [
    {
     "name": "stdout",
     "output_type": "stream",
     "text": [
      "Waiting for Feature Group Creation\n",
      "Waiting for Feature Group Creation\n",
      "Waiting for Feature Group Creation\n",
      "Waiting for Feature Group Creation\n",
      "FeatureGroup ingest-fg-06-17-2021-14-46-44 successfully created.\n"
     ]
    }
   ],
   "source": [
    "from sagemaker import get_execution_role\n",
    "df_feature_defs = pd.read_csv('../data/seed.csv')\n",
    "df_feature_defs['event_date'] = df_feature_defs['event_date'].astype('string')\n",
    "fg.load_feature_definitions(data_frame=df_feature_defs)\n",
    "kwargs = dict(\n",
    "    s3_uri = False,\n",
    "    record_identifier_name='id',\n",
    "    event_time_feature_name='event_date',\n",
    "    role_arn=get_execution_role(),\n",
    "    enable_online_store=True\n",
    ")\n",
    "fg.create(**kwargs)\n",
    "\n",
    "# wait for feature groups to be created\n",
    "def wait_for_feature_group_creation_complete(feature_group):\n",
    "    status = feature_group.describe().get(\"FeatureGroupStatus\")\n",
    "    while status == \"Creating\":\n",
    "        print(\"Waiting for Feature Group Creation\")\n",
    "        sleep(5)\n",
    "        status = feature_group.describe().get(\"FeatureGroupStatus\")\n",
    "    if status != \"Created\":\n",
    "        raise RuntimeError(f\"Failed to create feature group {feature_group.name}\")\n",
    "    print(f\"FeatureGroup {feature_group.name} successfully created.\")\n",
    "\n",
    "wait_for_feature_group_creation_complete(fg)"
   ]
  },
  {
   "cell_type": "code",
   "execution_count": 5,
   "id": "4079ebde",
   "metadata": {},
   "outputs": [
    {
     "data": {
      "text/plain": [
       "'ingest-fg-06-17-2021-14-46-44'"
      ]
     },
     "execution_count": 5,
     "metadata": {},
     "output_type": "execute_result"
    }
   ],
   "source": [
    "fg_name"
   ]
  },
  {
   "cell_type": "code",
   "execution_count": null,
   "id": "92f6123f",
   "metadata": {},
   "outputs": [],
   "source": []
  }
 ],
 "metadata": {
  "kernelspec": {
   "display_name": "conda_python3",
   "language": "python",
   "name": "conda_python3"
  },
  "language_info": {
   "codemirror_mode": {
    "name": "ipython",
    "version": 3
   },
   "file_extension": ".py",
   "mimetype": "text/x-python",
   "name": "python",
   "nbconvert_exporter": "python",
   "pygments_lexer": "ipython3",
   "version": "3.6.13"
  }
 },
 "nbformat": 4,
 "nbformat_minor": 5
}
