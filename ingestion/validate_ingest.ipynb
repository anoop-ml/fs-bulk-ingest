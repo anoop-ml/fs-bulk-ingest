{
 "cells": [
  {
   "cell_type": "markdown",
   "id": "31bca113",
   "metadata": {},
   "source": [
    "### Sample to verify features in a particular feature group (ONLINE). "
   ]
  },
  {
   "cell_type": "code",
   "execution_count": 1,
   "id": "7916171e",
   "metadata": {},
   "outputs": [],
   "source": [
    "import sagemaker\n",
    "sm_session = sagemaker.Session()"
   ]
  },
  {
   "cell_type": "code",
   "execution_count": 2,
   "id": "373f0430",
   "metadata": {},
   "outputs": [],
   "source": [
    "# function to get record\n",
    "def get_record(fg_name, feat_id, feat_names=['id']):\n",
    "    ret = sm_session.boto_session.client('sagemaker-featurestore-runtime') \\\n",
    "    .get_record(FeatureGroupName=fg_name, RecordIdentifierValueAsString=str(feat_id), FeatureNames=feat_names)\n",
    "    feat = ret.get('Record', None)\n",
    "    if feat is None:\n",
    "        return None\n",
    "    return feat[0]['ValueAsString']"
   ]
  },
  {
   "cell_type": "code",
   "execution_count": 3,
   "id": "5dddbafa",
   "metadata": {},
   "outputs": [
    {
     "data": {
      "text/plain": [
       "'20000'"
      ]
     },
     "execution_count": 3,
     "metadata": {},
     "output_type": "execute_result"
    }
   ],
   "source": [
    "# feature group name\n",
    "fg_name = 'ingest-fg-06-17-2021-02-08-22'\n",
    "\n",
    "sample_id = 20000\n",
    "get_record(fg_name, sample_id)"
   ]
  },
  {
   "cell_type": "code",
   "execution_count": 4,
   "id": "05296339",
   "metadata": {},
   "outputs": [],
   "source": [
    "# randomly sample some id's within the range of ids that were ingested\n",
    "import numpy as np\n",
    "feat_missing = []\n",
    "for i in range(1000):\n",
    "    i = np.random.randint(1, 20000000)\n",
    "    ret = get_record(fg_name, i)\n",
    "    if not ret:\n",
    "        feat_missing.append(i)"
   ]
  },
  {
   "cell_type": "code",
   "execution_count": 5,
   "id": "336a5170",
   "metadata": {},
   "outputs": [
    {
     "data": {
      "text/plain": [
       "0"
      ]
     },
     "execution_count": 5,
     "metadata": {},
     "output_type": "execute_result"
    }
   ],
   "source": [
    "len(feat_missing)"
   ]
  },
  {
   "cell_type": "code",
   "execution_count": null,
   "id": "edf4fcdc",
   "metadata": {},
   "outputs": [],
   "source": []
  }
 ],
 "metadata": {
  "kernelspec": {
   "display_name": "conda_pytorch_p36",
   "language": "python",
   "name": "conda_pytorch_p36"
  },
  "language_info": {
   "codemirror_mode": {
    "name": "ipython",
    "version": 3
   },
   "file_extension": ".py",
   "mimetype": "text/x-python",
   "name": "python",
   "nbconvert_exporter": "python",
   "pygments_lexer": "ipython3",
   "version": "3.6.13"
  }
 },
 "nbformat": 4,
 "nbformat_minor": 5
}
